{
 "cells": [
  {
   "cell_type": "code",
   "execution_count": 36,
   "id": "60c114b9",
   "metadata": {
    "ExecuteTime": {
     "end_time": "2023-10-02T12:45:02.683681Z",
     "start_time": "2023-10-02T12:45:02.587075Z"
    }
   },
   "outputs": [],
   "source": [
    "import numpy as np\n",
    "import pandas as pd\n",
    "import matplotlib.pyplot as plt  \n",
    "import seaborn as sns\n",
    "\n",
    "from sklearn.preprocessing import LabelEncoder\n",
    "from sklearn.model_selection import train_test_split \n"
   ]
  },
  {
   "cell_type": "code",
   "execution_count": 37,
   "id": "a4257b29",
   "metadata": {
    "ExecuteTime": {
     "end_time": "2023-10-02T12:45:02.817704Z",
     "start_time": "2023-10-02T12:45:02.594445Z"
    }
   },
   "outputs": [
    {
     "data": {
      "text/plain": "       age          workclass   fnlwgt    education   education-num  \\\n0       39          State-gov    77516    Bachelors              13   \n1       50   Self-emp-not-inc    83311    Bachelors              13   \n2       38            Private   215646      HS-grad               9   \n3       53            Private   234721         11th               7   \n4       28            Private   338409    Bachelors              13   \n...    ...                ...      ...          ...             ...   \n32556   27            Private   257302   Assoc-acdm              12   \n32557   40            Private   154374      HS-grad               9   \n32558   58            Private   151910      HS-grad               9   \n32559   22            Private   201490      HS-grad               9   \n32560   52       Self-emp-inc   287927      HS-grad               9   \n\n            marital-status          occupation    relationship    race  \\\n0            Never-married        Adm-clerical   Not-in-family   White   \n1       Married-civ-spouse     Exec-managerial         Husband   White   \n2                 Divorced   Handlers-cleaners   Not-in-family   White   \n3       Married-civ-spouse   Handlers-cleaners         Husband   Black   \n4       Married-civ-spouse      Prof-specialty            Wife   Black   \n...                    ...                 ...             ...     ...   \n32556   Married-civ-spouse        Tech-support            Wife   White   \n32557   Married-civ-spouse   Machine-op-inspct         Husband   White   \n32558              Widowed        Adm-clerical       Unmarried   White   \n32559        Never-married        Adm-clerical       Own-child   White   \n32560   Married-civ-spouse     Exec-managerial            Wife   White   \n\n           sex   capital-gain   capital-loss   hours-per-week  native-country  \\\n0         Male           2174              0               40   United-States   \n1         Male              0              0               13   United-States   \n2         Male              0              0               40   United-States   \n3         Male              0              0               40   United-States   \n4       Female              0              0               40            Cuba   \n...        ...            ...            ...              ...             ...   \n32556   Female              0              0               38   United-States   \n32557     Male              0              0               40   United-States   \n32558   Female              0              0               40   United-States   \n32559     Male              0              0               20   United-States   \n32560   Female          15024              0               40   United-States   \n\n       income  \n0       <=50K  \n1       <=50K  \n2       <=50K  \n3       <=50K  \n4       <=50K  \n...       ...  \n32556   <=50K  \n32557    >50K  \n32558   <=50K  \n32559   <=50K  \n32560    >50K  \n\n[32561 rows x 15 columns]",
      "text/html": "<div>\n<style scoped>\n    .dataframe tbody tr th:only-of-type {\n        vertical-align: middle;\n    }\n\n    .dataframe tbody tr th {\n        vertical-align: top;\n    }\n\n    .dataframe thead th {\n        text-align: right;\n    }\n</style>\n<table border=\"1\" class=\"dataframe\">\n  <thead>\n    <tr style=\"text-align: right;\">\n      <th></th>\n      <th>age</th>\n      <th>workclass</th>\n      <th>fnlwgt</th>\n      <th>education</th>\n      <th>education-num</th>\n      <th>marital-status</th>\n      <th>occupation</th>\n      <th>relationship</th>\n      <th>race</th>\n      <th>sex</th>\n      <th>capital-gain</th>\n      <th>capital-loss</th>\n      <th>hours-per-week</th>\n      <th>native-country</th>\n      <th>income</th>\n    </tr>\n  </thead>\n  <tbody>\n    <tr>\n      <th>0</th>\n      <td>39</td>\n      <td>State-gov</td>\n      <td>77516</td>\n      <td>Bachelors</td>\n      <td>13</td>\n      <td>Never-married</td>\n      <td>Adm-clerical</td>\n      <td>Not-in-family</td>\n      <td>White</td>\n      <td>Male</td>\n      <td>2174</td>\n      <td>0</td>\n      <td>40</td>\n      <td>United-States</td>\n      <td>&lt;=50K</td>\n    </tr>\n    <tr>\n      <th>1</th>\n      <td>50</td>\n      <td>Self-emp-not-inc</td>\n      <td>83311</td>\n      <td>Bachelors</td>\n      <td>13</td>\n      <td>Married-civ-spouse</td>\n      <td>Exec-managerial</td>\n      <td>Husband</td>\n      <td>White</td>\n      <td>Male</td>\n      <td>0</td>\n      <td>0</td>\n      <td>13</td>\n      <td>United-States</td>\n      <td>&lt;=50K</td>\n    </tr>\n    <tr>\n      <th>2</th>\n      <td>38</td>\n      <td>Private</td>\n      <td>215646</td>\n      <td>HS-grad</td>\n      <td>9</td>\n      <td>Divorced</td>\n      <td>Handlers-cleaners</td>\n      <td>Not-in-family</td>\n      <td>White</td>\n      <td>Male</td>\n      <td>0</td>\n      <td>0</td>\n      <td>40</td>\n      <td>United-States</td>\n      <td>&lt;=50K</td>\n    </tr>\n    <tr>\n      <th>3</th>\n      <td>53</td>\n      <td>Private</td>\n      <td>234721</td>\n      <td>11th</td>\n      <td>7</td>\n      <td>Married-civ-spouse</td>\n      <td>Handlers-cleaners</td>\n      <td>Husband</td>\n      <td>Black</td>\n      <td>Male</td>\n      <td>0</td>\n      <td>0</td>\n      <td>40</td>\n      <td>United-States</td>\n      <td>&lt;=50K</td>\n    </tr>\n    <tr>\n      <th>4</th>\n      <td>28</td>\n      <td>Private</td>\n      <td>338409</td>\n      <td>Bachelors</td>\n      <td>13</td>\n      <td>Married-civ-spouse</td>\n      <td>Prof-specialty</td>\n      <td>Wife</td>\n      <td>Black</td>\n      <td>Female</td>\n      <td>0</td>\n      <td>0</td>\n      <td>40</td>\n      <td>Cuba</td>\n      <td>&lt;=50K</td>\n    </tr>\n    <tr>\n      <th>...</th>\n      <td>...</td>\n      <td>...</td>\n      <td>...</td>\n      <td>...</td>\n      <td>...</td>\n      <td>...</td>\n      <td>...</td>\n      <td>...</td>\n      <td>...</td>\n      <td>...</td>\n      <td>...</td>\n      <td>...</td>\n      <td>...</td>\n      <td>...</td>\n      <td>...</td>\n    </tr>\n    <tr>\n      <th>32556</th>\n      <td>27</td>\n      <td>Private</td>\n      <td>257302</td>\n      <td>Assoc-acdm</td>\n      <td>12</td>\n      <td>Married-civ-spouse</td>\n      <td>Tech-support</td>\n      <td>Wife</td>\n      <td>White</td>\n      <td>Female</td>\n      <td>0</td>\n      <td>0</td>\n      <td>38</td>\n      <td>United-States</td>\n      <td>&lt;=50K</td>\n    </tr>\n    <tr>\n      <th>32557</th>\n      <td>40</td>\n      <td>Private</td>\n      <td>154374</td>\n      <td>HS-grad</td>\n      <td>9</td>\n      <td>Married-civ-spouse</td>\n      <td>Machine-op-inspct</td>\n      <td>Husband</td>\n      <td>White</td>\n      <td>Male</td>\n      <td>0</td>\n      <td>0</td>\n      <td>40</td>\n      <td>United-States</td>\n      <td>&gt;50K</td>\n    </tr>\n    <tr>\n      <th>32558</th>\n      <td>58</td>\n      <td>Private</td>\n      <td>151910</td>\n      <td>HS-grad</td>\n      <td>9</td>\n      <td>Widowed</td>\n      <td>Adm-clerical</td>\n      <td>Unmarried</td>\n      <td>White</td>\n      <td>Female</td>\n      <td>0</td>\n      <td>0</td>\n      <td>40</td>\n      <td>United-States</td>\n      <td>&lt;=50K</td>\n    </tr>\n    <tr>\n      <th>32559</th>\n      <td>22</td>\n      <td>Private</td>\n      <td>201490</td>\n      <td>HS-grad</td>\n      <td>9</td>\n      <td>Never-married</td>\n      <td>Adm-clerical</td>\n      <td>Own-child</td>\n      <td>White</td>\n      <td>Male</td>\n      <td>0</td>\n      <td>0</td>\n      <td>20</td>\n      <td>United-States</td>\n      <td>&lt;=50K</td>\n    </tr>\n    <tr>\n      <th>32560</th>\n      <td>52</td>\n      <td>Self-emp-inc</td>\n      <td>287927</td>\n      <td>HS-grad</td>\n      <td>9</td>\n      <td>Married-civ-spouse</td>\n      <td>Exec-managerial</td>\n      <td>Wife</td>\n      <td>White</td>\n      <td>Female</td>\n      <td>15024</td>\n      <td>0</td>\n      <td>40</td>\n      <td>United-States</td>\n      <td>&gt;50K</td>\n    </tr>\n  </tbody>\n</table>\n<p>32561 rows × 15 columns</p>\n</div>"
     },
     "execution_count": 37,
     "metadata": {},
     "output_type": "execute_result"
    }
   ],
   "source": [
    "df=pd.read_csv('income_evaluation.csv')\n",
    "df"
   ]
  },
  {
   "cell_type": "code",
   "execution_count": 38,
   "id": "b48ed3be",
   "metadata": {
    "ExecuteTime": {
     "end_time": "2023-10-02T12:45:02.956443Z",
     "start_time": "2023-10-02T12:45:02.820239Z"
    }
   },
   "outputs": [
    {
     "data": {
      "text/plain": "24"
     },
     "execution_count": 38,
     "metadata": {},
     "output_type": "execute_result"
    }
   ],
   "source": [
    "df.duplicated().sum()"
   ]
  },
  {
   "cell_type": "code",
   "execution_count": 39,
   "id": "994e0489",
   "metadata": {
    "ExecuteTime": {
     "end_time": "2023-10-02T12:45:03.059629Z",
     "start_time": "2023-10-02T12:45:02.891234Z"
    }
   },
   "outputs": [
    {
     "data": {
      "text/plain": "0"
     },
     "execution_count": 39,
     "metadata": {},
     "output_type": "execute_result"
    }
   ],
   "source": [
    "df.drop_duplicates(inplace=True)\n",
    "df.duplicated().sum()"
   ]
  },
  {
   "cell_type": "code",
   "execution_count": 40,
   "id": "198ad398",
   "metadata": {
    "ExecuteTime": {
     "end_time": "2023-10-02T12:45:03.221707Z",
     "start_time": "2023-10-02T12:45:03.031974Z"
    }
   },
   "outputs": [],
   "source": [
    "def striptist(df):\n",
    "    for i in df:\n",
    "        if df[i].dtype=='object':\n",
    "            df[i]=df[i].str.strip()\n",
    "    return df\n",
    "\n",
    "df=striptist(df)\n",
    "    "
   ]
  },
  {
   "cell_type": "code",
   "execution_count": 41,
   "id": "d75357eb",
   "metadata": {
    "ExecuteTime": {
     "end_time": "2023-10-02T12:45:03.252573Z",
     "start_time": "2023-10-02T12:45:03.226385Z"
    }
   },
   "outputs": [
    {
     "data": {
      "text/plain": "array(['Male', 'Female'], dtype=object)"
     },
     "execution_count": 41,
     "metadata": {},
     "output_type": "execute_result"
    }
   ],
   "source": [
    "df[' sex'].unique()"
   ]
  },
  {
   "cell_type": "code",
   "execution_count": 42,
   "id": "eb171a34",
   "metadata": {
    "ExecuteTime": {
     "end_time": "2023-10-02T12:45:03.255636Z",
     "start_time": "2023-10-02T12:45:03.237123Z"
    }
   },
   "outputs": [],
   "source": [
    "from outlier import Manipulator"
   ]
  },
  {
   "cell_type": "code",
   "execution_count": 43,
   "id": "f0b1d413",
   "metadata": {
    "ExecuteTime": {
     "end_time": "2023-10-02T12:45:03.369322Z",
     "start_time": "2023-10-02T12:45:03.253674Z"
    }
   },
   "outputs": [
    {
     "data": {
      "text/plain": "       age         workclass   fnlwgt   education   education-num  \\\n0       39         State-gov    77516   Bachelors              13   \n1       50  Self-emp-not-inc    83311   Bachelors              13   \n2       38           Private   215646     HS-grad               9   \n3       53           Private   234721        11th               7   \n4       28           Private   338409   Bachelors              13   \n...    ...               ...      ...         ...             ...   \n32556   27           Private   257302  Assoc-acdm              12   \n32557   40           Private   154374     HS-grad               9   \n32558   58           Private   151910     HS-grad               9   \n32559   22           Private   201490     HS-grad               9   \n32560   52      Self-emp-inc   287927     HS-grad               9   \n\n           marital-status         occupation   relationship   race     sex  \\\n0           Never-married       Adm-clerical  Not-in-family  White    Male   \n1      Married-civ-spouse    Exec-managerial        Husband  White    Male   \n2                Divorced  Handlers-cleaners  Not-in-family  White    Male   \n3      Married-civ-spouse  Handlers-cleaners        Husband  Black    Male   \n4      Married-civ-spouse     Prof-specialty           Wife  Black  Female   \n...                   ...                ...            ...    ...     ...   \n32556  Married-civ-spouse       Tech-support           Wife  White  Female   \n32557  Married-civ-spouse  Machine-op-inspct        Husband  White    Male   \n32558             Widowed       Adm-clerical      Unmarried  White  Female   \n32559       Never-married       Adm-clerical      Own-child  White    Male   \n32560  Married-civ-spouse    Exec-managerial           Wife  White  Female   \n\n        capital-gain   capital-loss   hours-per-week  native-country  income  \n0               2174              0               40   United-States   <=50K  \n1                  0              0               13   United-States   <=50K  \n2                  0              0               40   United-States   <=50K  \n3                  0              0               40   United-States   <=50K  \n4                  0              0               40            Cuba   <=50K  \n...              ...            ...              ...             ...     ...  \n32556              0              0               38   United-States   <=50K  \n32557              0              0               40   United-States    >50K  \n32558              0              0               40   United-States   <=50K  \n32559              0              0               20   United-States   <=50K  \n32560          15024              0               40   United-States    >50K  \n\n[32537 rows x 15 columns]",
      "text/html": "<div>\n<style scoped>\n    .dataframe tbody tr th:only-of-type {\n        vertical-align: middle;\n    }\n\n    .dataframe tbody tr th {\n        vertical-align: top;\n    }\n\n    .dataframe thead th {\n        text-align: right;\n    }\n</style>\n<table border=\"1\" class=\"dataframe\">\n  <thead>\n    <tr style=\"text-align: right;\">\n      <th></th>\n      <th>age</th>\n      <th>workclass</th>\n      <th>fnlwgt</th>\n      <th>education</th>\n      <th>education-num</th>\n      <th>marital-status</th>\n      <th>occupation</th>\n      <th>relationship</th>\n      <th>race</th>\n      <th>sex</th>\n      <th>capital-gain</th>\n      <th>capital-loss</th>\n      <th>hours-per-week</th>\n      <th>native-country</th>\n      <th>income</th>\n    </tr>\n  </thead>\n  <tbody>\n    <tr>\n      <th>0</th>\n      <td>39</td>\n      <td>State-gov</td>\n      <td>77516</td>\n      <td>Bachelors</td>\n      <td>13</td>\n      <td>Never-married</td>\n      <td>Adm-clerical</td>\n      <td>Not-in-family</td>\n      <td>White</td>\n      <td>Male</td>\n      <td>2174</td>\n      <td>0</td>\n      <td>40</td>\n      <td>United-States</td>\n      <td>&lt;=50K</td>\n    </tr>\n    <tr>\n      <th>1</th>\n      <td>50</td>\n      <td>Self-emp-not-inc</td>\n      <td>83311</td>\n      <td>Bachelors</td>\n      <td>13</td>\n      <td>Married-civ-spouse</td>\n      <td>Exec-managerial</td>\n      <td>Husband</td>\n      <td>White</td>\n      <td>Male</td>\n      <td>0</td>\n      <td>0</td>\n      <td>13</td>\n      <td>United-States</td>\n      <td>&lt;=50K</td>\n    </tr>\n    <tr>\n      <th>2</th>\n      <td>38</td>\n      <td>Private</td>\n      <td>215646</td>\n      <td>HS-grad</td>\n      <td>9</td>\n      <td>Divorced</td>\n      <td>Handlers-cleaners</td>\n      <td>Not-in-family</td>\n      <td>White</td>\n      <td>Male</td>\n      <td>0</td>\n      <td>0</td>\n      <td>40</td>\n      <td>United-States</td>\n      <td>&lt;=50K</td>\n    </tr>\n    <tr>\n      <th>3</th>\n      <td>53</td>\n      <td>Private</td>\n      <td>234721</td>\n      <td>11th</td>\n      <td>7</td>\n      <td>Married-civ-spouse</td>\n      <td>Handlers-cleaners</td>\n      <td>Husband</td>\n      <td>Black</td>\n      <td>Male</td>\n      <td>0</td>\n      <td>0</td>\n      <td>40</td>\n      <td>United-States</td>\n      <td>&lt;=50K</td>\n    </tr>\n    <tr>\n      <th>4</th>\n      <td>28</td>\n      <td>Private</td>\n      <td>338409</td>\n      <td>Bachelors</td>\n      <td>13</td>\n      <td>Married-civ-spouse</td>\n      <td>Prof-specialty</td>\n      <td>Wife</td>\n      <td>Black</td>\n      <td>Female</td>\n      <td>0</td>\n      <td>0</td>\n      <td>40</td>\n      <td>Cuba</td>\n      <td>&lt;=50K</td>\n    </tr>\n    <tr>\n      <th>...</th>\n      <td>...</td>\n      <td>...</td>\n      <td>...</td>\n      <td>...</td>\n      <td>...</td>\n      <td>...</td>\n      <td>...</td>\n      <td>...</td>\n      <td>...</td>\n      <td>...</td>\n      <td>...</td>\n      <td>...</td>\n      <td>...</td>\n      <td>...</td>\n      <td>...</td>\n    </tr>\n    <tr>\n      <th>32556</th>\n      <td>27</td>\n      <td>Private</td>\n      <td>257302</td>\n      <td>Assoc-acdm</td>\n      <td>12</td>\n      <td>Married-civ-spouse</td>\n      <td>Tech-support</td>\n      <td>Wife</td>\n      <td>White</td>\n      <td>Female</td>\n      <td>0</td>\n      <td>0</td>\n      <td>38</td>\n      <td>United-States</td>\n      <td>&lt;=50K</td>\n    </tr>\n    <tr>\n      <th>32557</th>\n      <td>40</td>\n      <td>Private</td>\n      <td>154374</td>\n      <td>HS-grad</td>\n      <td>9</td>\n      <td>Married-civ-spouse</td>\n      <td>Machine-op-inspct</td>\n      <td>Husband</td>\n      <td>White</td>\n      <td>Male</td>\n      <td>0</td>\n      <td>0</td>\n      <td>40</td>\n      <td>United-States</td>\n      <td>&gt;50K</td>\n    </tr>\n    <tr>\n      <th>32558</th>\n      <td>58</td>\n      <td>Private</td>\n      <td>151910</td>\n      <td>HS-grad</td>\n      <td>9</td>\n      <td>Widowed</td>\n      <td>Adm-clerical</td>\n      <td>Unmarried</td>\n      <td>White</td>\n      <td>Female</td>\n      <td>0</td>\n      <td>0</td>\n      <td>40</td>\n      <td>United-States</td>\n      <td>&lt;=50K</td>\n    </tr>\n    <tr>\n      <th>32559</th>\n      <td>22</td>\n      <td>Private</td>\n      <td>201490</td>\n      <td>HS-grad</td>\n      <td>9</td>\n      <td>Never-married</td>\n      <td>Adm-clerical</td>\n      <td>Own-child</td>\n      <td>White</td>\n      <td>Male</td>\n      <td>0</td>\n      <td>0</td>\n      <td>20</td>\n      <td>United-States</td>\n      <td>&lt;=50K</td>\n    </tr>\n    <tr>\n      <th>32560</th>\n      <td>52</td>\n      <td>Self-emp-inc</td>\n      <td>287927</td>\n      <td>HS-grad</td>\n      <td>9</td>\n      <td>Married-civ-spouse</td>\n      <td>Exec-managerial</td>\n      <td>Wife</td>\n      <td>White</td>\n      <td>Female</td>\n      <td>15024</td>\n      <td>0</td>\n      <td>40</td>\n      <td>United-States</td>\n      <td>&gt;50K</td>\n    </tr>\n  </tbody>\n</table>\n<p>32537 rows × 15 columns</p>\n</div>"
     },
     "execution_count": 43,
     "metadata": {},
     "output_type": "execute_result"
    }
   ],
   "source": [
    "M=Manipulator(df)\n",
    "M.striptist()"
   ]
  },
  {
   "cell_type": "code",
   "execution_count": 44,
   "id": "85af08a1",
   "metadata": {
    "ExecuteTime": {
     "end_time": "2023-10-02T12:45:03.375543Z",
     "start_time": "2023-10-02T12:45:03.367108Z"
    }
   },
   "outputs": [
    {
     "data": {
      "text/plain": "Index(['age', ' workclass', ' fnlwgt', ' education', ' education-num',\n       ' marital-status', ' occupation', ' relationship', ' race', ' sex',\n       ' capital-gain', ' capital-loss', ' hours-per-week', ' native-country',\n       ' income'],\n      dtype='object')"
     },
     "execution_count": 44,
     "metadata": {},
     "output_type": "execute_result"
    }
   ],
   "source": [
    "df.columns"
   ]
  },
  {
   "cell_type": "code",
   "execution_count": 45,
   "id": "486d67be",
   "metadata": {
    "ExecuteTime": {
     "end_time": "2023-10-02T12:45:03.397856Z",
     "start_time": "2023-10-02T12:45:03.376511Z"
    }
   },
   "outputs": [],
   "source": [
    "df.drop([' fnlwgt',' native-country',' relationship',' education',' workclass'],axis=1,inplace=True)"
   ]
  },
  {
   "cell_type": "code",
   "execution_count": 46,
   "id": "aaf1e2ca",
   "metadata": {
    "ExecuteTime": {
     "end_time": "2023-10-02T12:45:03.589757Z",
     "start_time": "2023-10-02T12:45:03.386835Z"
    }
   },
   "outputs": [
    {
     "data": {
      "text/plain": "<Axes: >"
     },
     "execution_count": 46,
     "metadata": {},
     "output_type": "execute_result"
    },
    {
     "data": {
      "text/plain": "<Figure size 640x480 with 1 Axes>",
      "image/png": "[encoded data removed]"
     },
     "metadata": {},
     "output_type": "display_data"
    }
   ],
   "source": [
    "sns.boxplot(df[\"age\"])"
   ]
  },
  {
   "cell_type": "code",
   "execution_count": 47,
   "id": "5306f6e5",
   "metadata": {
    "ExecuteTime": {
     "end_time": "2023-10-02T12:45:03.690529Z",
     "start_time": "2023-10-02T12:45:03.589509Z"
    }
   },
   "outputs": [],
   "source": [
    "M.replace_with_thresholds(\"age\")"
   ]
  },
  {
   "cell_type": "code",
   "execution_count": 48,
   "id": "4269ee50",
   "metadata": {
    "ExecuteTime": {
     "end_time": "2023-10-02T12:45:03.868121Z",
     "start_time": "2023-10-02T12:45:03.616392Z"
    }
   },
   "outputs": [
    {
     "data": {
      "text/plain": "<Axes: >"
     },
     "execution_count": 48,
     "metadata": {},
     "output_type": "execute_result"
    },
    {
     "data": {
      "text/plain": "<Figure size 640x480 with 1 Axes>",
      "image/png": "[encoded data removed]"
     },
     "metadata": {},
     "output_type": "display_data"
    }
   ],
   "source": [
    "sns.boxplot(df[\"age\"])"
   ]
  },
  {
   "cell_type": "code",
   "execution_count": 49,
   "id": "f9504ec0",
   "metadata": {
    "ExecuteTime": {
     "end_time": "2023-10-02T12:45:04.010050Z",
     "start_time": "2023-10-02T12:45:03.890471Z"
    }
   },
   "outputs": [],
   "source": [
    "from sklearn.preprocessing import LabelEncoder\n",
    "from sklearn.preprocessing import StandardScaler\n",
    "from sklearn.impute import SimpleImputer\n",
    "from sklearn.preprocessing import OneHotEncoder\n",
    "from sklearn.model_selection import train_test_split \n",
    "from sklearn.pipeline import Pipeline\n",
    "from sklearn.compose import ColumnTransformer\n",
    "from sklearn.linear_model import LogisticRegression "
   ]
  },
  {
   "cell_type": "code",
   "execution_count": 50,
   "id": "00b68290",
   "metadata": {
    "ExecuteTime": {
     "end_time": "2023-10-02T12:45:04.011303Z",
     "start_time": "2023-10-02T12:45:03.936296Z"
    }
   },
   "outputs": [],
   "source": [
    "X=df.drop(' income',axis=1)\n",
    "y=df[' income']\n",
    "X_train,X_test,y_train,y_test=train_test_split(X,y,test_size=0.23,random_state=101)"
   ]
  },
  {
   "cell_type": "code",
   "execution_count": 51,
   "id": "ad54cac2",
   "metadata": {
    "ExecuteTime": {
     "end_time": "2023-10-02T12:45:04.064583Z",
     "start_time": "2023-10-02T12:45:04.014468Z"
    }
   },
   "outputs": [
    {
     "data": {
      "text/plain": "0        <=50K\n1        <=50K\n2        <=50K\n3        <=50K\n4        <=50K\n         ...  \n32556    <=50K\n32557     >50K\n32558    <=50K\n32559    <=50K\n32560     >50K\nName:  income, Length: 32537, dtype: object"
     },
     "execution_count": 51,
     "metadata": {},
     "output_type": "execute_result"
    }
   ],
   "source": [
    "numeric_columns=X.select_dtypes(include=\"number\").columns\n",
    "categorical_columns=X.select_dtypes(include=\"object\").columns\n",
    "df[' income'].replace(' <=50K',1,inplace=True)\n",
    "df[' income'].replace(' >50K',0,inplace=True)\n",
    "df[' income']"
   ]
  },
  {
   "cell_type": "code",
   "execution_count": 52,
   "id": "dd5102b0",
   "metadata": {
    "ExecuteTime": {
     "end_time": "2023-10-02T12:45:04.065478Z",
     "start_time": "2023-10-02T12:45:04.042258Z"
    }
   },
   "outputs": [],
   "source": [
    "numPip=Pipeline(steps=[\n",
    "    ('imputer',SimpleImputer(strategy='mean')),\n",
    "    ('scaler',StandardScaler())\n",
    "]\n",
    ")"
   ]
  },
  {
   "cell_type": "code",
   "execution_count": 53,
   "id": "9dd9f1b8",
   "metadata": {
    "ExecuteTime": {
     "end_time": "2023-10-02T12:45:04.065731Z",
     "start_time": "2023-10-02T12:45:04.049980Z"
    }
   },
   "outputs": [],
   "source": [
    "catPip=Pipeline(steps=[\n",
    "    ('imputer',SimpleImputer(strategy='most_frequent')),\n",
    "    ('encoder',OneHotEncoder(handle_unknown='ignore'))\n",
    "])"
   ]
  },
  {
   "cell_type": "code",
   "execution_count": 54,
   "id": "0f276a75",
   "metadata": {
    "ExecuteTime": {
     "end_time": "2023-10-02T12:45:04.083856Z",
     "start_time": "2023-10-02T12:45:04.060614Z"
    }
   },
   "outputs": [],
   "source": [
    "prep = ColumnTransformer(\n",
    "    transformers=[\n",
    "        ('categorical', catPip, categorical_columns),\n",
    "        ('numerical', numPip, numeric_columns)\n",
    "    ])"
   ]
  },
  {
   "cell_type": "code",
   "execution_count": 55,
   "id": "11356e67",
   "metadata": {
    "ExecuteTime": {
     "end_time": "2023-10-02T12:45:04.084737Z",
     "start_time": "2023-10-02T12:45:04.072304Z"
    }
   },
   "outputs": [],
   "source": [
    "pipelineL=Pipeline(steps=[\n",
    "    ('preprocessor',prep),\n",
    "    ('model',LogisticRegression(random_state=101))\n",
    "]\n",
    ")"
   ]
  },
  {
   "cell_type": "code",
   "execution_count": 56,
   "id": "34eb1361",
   "metadata": {
    "ExecuteTime": {
     "end_time": "2023-10-02T12:45:04.796459Z",
     "start_time": "2023-10-02T12:45:04.087266Z"
    }
   },
   "outputs": [
    {
     "name": "stderr",
     "output_type": "stream",
     "text": [
      "/Users/ismile/anaconda3/lib/python3.10/site-packages/sklearn/linear_model/_logistic.py:458: ConvergenceWarning: lbfgs failed to converge (status=1):\n",
      "STOP: TOTAL NO. of ITERATIONS REACHED LIMIT.\n",
      "\n",
      "Increase the number of iterations (max_iter) or scale the data as shown in:\n",
      "    https://scikit-learn.org/stable/modules/preprocessing.html\n",
      "Please also refer to the documentation for alternative solver options:\n",
      "    https://scikit-learn.org/stable/modules/linear_model.html#logistic-regression\n",
      "  n_iter_i = _check_optimize_result(\n"
     ]
    }
   ],
   "source": [
    "pipelineL.fit(X_train,y_train)\n",
    "y_pred=pipelineL.predict(X_test)"
   ]
  },
  {
   "cell_type": "code",
   "execution_count": 57,
   "id": "645189b3",
   "metadata": {
    "ExecuteTime": {
     "end_time": "2023-10-02T12:45:05.153440Z",
     "start_time": "2023-10-02T12:45:04.812458Z"
    }
   },
   "outputs": [
    {
     "name": "stdout",
     "output_type": "stream",
     "text": [
      "              precision    recall  f1-score   support\n",
      "\n",
      "       <=50K       0.88      0.93      0.91      5711\n",
      "        >50K       0.74      0.60      0.66      1773\n",
      "\n",
      "    accuracy                           0.85      7484\n",
      "   macro avg       0.81      0.77      0.78      7484\n",
      "weighted avg       0.85      0.85      0.85      7484\n"
     ]
    }
   ],
   "source": [
    "from sklearn.metrics import classification_report\n",
    "print(classification_report(y_test,y_pred))"
   ]
  },
  {
   "cell_type": "code",
   "execution_count": 58,
   "id": "0f722684",
   "metadata": {
    "ExecuteTime": {
     "end_time": "2023-10-02T12:45:05.201430Z",
     "start_time": "2023-10-02T12:45:05.170993Z"
    }
   },
   "outputs": [
    {
     "name": "stdout",
     "output_type": "stream",
     "text": [
      "[[5331  380]\n",
      " [ 711 1062]]\n"
     ]
    }
   ],
   "source": [
    "from sklearn.metrics import confusion_matrix\n",
    "print(confusion_matrix(y_test, y_pred))"
   ]
  },
  {
   "cell_type": "code",
   "execution_count": 59,
   "id": "037d802a",
   "metadata": {
    "ExecuteTime": {
     "end_time": "2023-10-02T12:45:05.266851Z",
     "start_time": "2023-10-02T12:45:05.237892Z"
    }
   },
   "outputs": [
    {
     "name": "stdout",
     "output_type": "stream",
     "text": [
      "[[5331  380]\n",
      " [ 711 1062]]\n",
      "Accuracy: 0.8542223409941208\n"
     ]
    }
   ],
   "source": [
    "from sklearn import metrics\n",
    "accuracy1=metrics.accuracy_score(y_test, y_pred)\n",
    "\n",
    "\n",
    "print(confusion_matrix(y_test, y_pred))    \n",
    "print('Accuracy:',accuracy1)\n"
   ]
  },
  {
   "cell_type": "code",
   "execution_count": 59,
   "id": "0f59b897",
   "metadata": {
    "ExecuteTime": {
     "end_time": "2023-10-02T12:45:05.272670Z",
     "start_time": "2023-10-02T12:45:05.265222Z"
    }
   },
   "outputs": [],
   "source": []
  }
 ],
 "metadata": {
  "kernelspec": {
   "display_name": "Python 3 (ipykernel)",
   "language": "python",
   "name": "python3"
  },
  "language_info": {
   "codemirror_mode": {
    "name": "ipython",
    "version": 3
   },
   "file_extension": ".py",
   "mimetype": "text/x-python",
   "name": "python",
   "nbconvert_exporter": "python",
   "pygments_lexer": "ipython3",
   "version": "3.11.2"
  }
 },
 "nbformat": 4,
 "nbformat_minor": 5
}
